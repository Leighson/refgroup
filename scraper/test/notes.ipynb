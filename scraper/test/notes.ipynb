{
 "cells": [
  {
   "cell_type": "code",
   "execution_count": 8,
   "metadata": {},
   "outputs": [
    {
     "name": "stdout",
     "output_type": "stream",
     "text": [
      "/\n"
     ]
    }
   ],
   "source": [
    "# load environment variables\n",
    "from dotenv import load_dotenv\n",
    "from pathlib import Path\n",
    "import os\n",
    "\n",
    "dotenv_path = Path('/.env').parent\n",
    "print(dotenv_path)\n",
    "load_dotenv(Path('../.env'))\n",
    "\n",
    "# selenium to parse dynamic web pages\n",
    "from webdriver_manager.chrome import ChromeDriverManager\n",
    "from selenium import webdriver\n",
    "from selenium.webdriver import ChromeOptions\n",
    "from selenium.webdriver.chrome.service import Service as ChromeService\n",
    "from selenium.webdriver.support.wait import WebDriverWait\n",
    "from selenium.webdriver.common.by import By\n",
    "from selenium.common.exceptions import NoSuchElementException\n",
    "\n",
    "# import utilities\n",
    "import pandas as pd\n",
    "import time"
   ]
  },
  {
   "attachments": {},
   "cell_type": "markdown",
   "metadata": {},
   "source": [
    "# Authentication & Filters"
   ]
  },
  {
   "cell_type": "code",
   "execution_count": 9,
   "metadata": {},
   "outputs": [],
   "source": [
    "# get environment variables\n",
    "card_num = os.environ.get('MISS-LIB-CARD')\n",
    "base_url = os.getenv('BASE-URL')\n",
    "\n",
    "# search terms\n",
    "query = \"banquet\"\n",
    "data_values = [\n",
    "    581212, # Banquet Facilities\n",
    "    791102, # Ballrooms\n",
    "    799904, # Auditoriums\n",
    "    738931] # Convention & Meeting Facilities"
   ]
  },
  {
   "cell_type": "code",
   "execution_count": 10,
   "metadata": {},
   "outputs": [
    {
     "name": "stdout",
     "output_type": "stream",
     "text": [
      "None\n"
     ]
    }
   ],
   "source": [
    "print(card_num)"
   ]
  },
  {
   "attachments": {},
   "cell_type": "markdown",
   "metadata": {},
   "source": [
    "# Set Browser Options & Install Drivers"
   ]
  },
  {
   "cell_type": "code",
   "execution_count": 11,
   "metadata": {},
   "outputs": [
    {
     "name": "stderr",
     "output_type": "stream",
     "text": [
      "[WDM] - Downloading: 100%|██████████| 8.00M/8.00M [00:00<00:00, 10.9MB/s]\n"
     ]
    }
   ],
   "source": [
    "# define options for browser\n",
    "options = ChromeOptions()\n",
    "options.add_argument('--ignore-certificate-errors')\n",
    "options.add_argument('--incognito')\n",
    "# options.add_argument('--headless')\n",
    "\n",
    "# install driver and open URL\n",
    "driver = webdriver.Chrome(service=ChromeService(ChromeDriverManager().install()), options=options)"
   ]
  },
  {
   "attachments": {},
   "cell_type": "markdown",
   "metadata": {},
   "source": [
    "# Define Helper Functions"
   ]
  },
  {
   "cell_type": "code",
   "execution_count": 12,
   "metadata": {},
   "outputs": [],
   "source": [
    "def document_initialised(driver):\n",
    "    '''\n",
    "    document_initialised will command the driver to wait for the page to load completely.\n",
    "\n",
    "    Args:\n",
    "        driver (ChromeService object): Chrome browser driver.\n",
    "\n",
    "    Returns:\n",
    "        js script: Driver executes a script to wait for the page to load or, if it has already loaded before the listener can catch it, to proceed.\n",
    "    '''\n",
    "    return driver.execute_script(\"if (document.readyState === 'complete') {return true;} else {window.addEventListener('load', () => {return true;});}\")\n",
    "\n",
    "def wait_for_page(n):\n",
    "    '''\n",
    "    wait_for_page will stall the selenium driver to listen for conditions.\n",
    "\n",
    "    Args:\n",
    "        n (int): Set wait time in seconds.\n",
    "\n",
    "    '''\n",
    "    WebDriverWait(driver, timeout=10).until(document_initialised)\n",
    "    time.sleep(n)\n",
    "    return\n",
    "\n",
    "def scrape_table_data(driver):\n",
    "    '''\n",
    "    scrape_page_data will scrape all data from the tabulated, high-level results.\n",
    "    NOTE: This function only works if it is called on the first page of the tabulated results.\n",
    "\n",
    "    Args:\n",
    "        driver (ChromeService object): Chrome browser driver.\n",
    "\n",
    "    Returns:\n",
    "        data (list): Scraped entries from the tables.\n",
    "        heading_names (list): Scraped fields from the tables.\n",
    "    '''\n",
    "\n",
    "    # find the resulting number of pages\n",
    "    max_pages = driver.find_element(By.CLASS_NAME, \"data-page-max\").text\n",
    "\n",
    "    # define containers\n",
    "    data = list()\n",
    "    heading_names = list()\n",
    "\n",
    "    # scrape table headings\n",
    "    headings = driver.find_elements(By.XPATH, \"//thead[@id = 'searchResultsHeader']/tr/th\")\n",
    "    for heading in headings:\n",
    "        heading_names.append(heading.text)\n",
    "\n",
    "    for _ in range(1, int(max_pages)+1):\n",
    "        # scrape entries from table\n",
    "        rows = driver.find_elements(By.XPATH, \"//tbody[@id = 'searchResultsPage']/tr\")\n",
    "\n",
    "        for row in rows:\n",
    "            row_data = list()\n",
    "            for col in row.find_elements(By.TAG_NAME, \"td\"):\n",
    "                row_data.append(col.text)\n",
    "            data.append(row_data)\n",
    "\n",
    "        # go to the next page then wait\n",
    "        driver.find_elements(By.CLASS_NAME, \"next\")[0].click()\n",
    "        wait_for_page(3)\n",
    "\n",
    "    return data, heading_names\n",
    "\n",
    "def scrape_detailed_data(driver):\n",
    "    # find the resulting number of pages\n",
    "    max_pages = driver.find_element(By.CLASS_NAME, \"data-page-max\").text\n",
    "\n",
    "    # define containers\n",
    "    data = list()\n",
    "    heading_names = list()\n",
    "\n",
    "    # scrape table headings\n",
    "    headings = driver.find_elements(By.XPATH, \"//thead[@id = 'searchResultsHeader']/tr/th\")\n",
    "    for heading in headings:\n",
    "        heading_names.append(heading.text)\n",
    "\n",
    "    for _ in range(1, int(max_pages)+1):\n",
    "        # scrape entries from table\n",
    "        rows = driver.find_elements(By.XPATH, \"//tbody[@id = 'searchResultsPage']/tr\")\n",
    "\n",
    "        for row in rows:\n",
    "            row_data = list()\n",
    "            for col in row.find_elements(By.TAG_NAME, \"td\"):\n",
    "                row_data.append(col.text)\n",
    "            data.append(row_data)\n",
    "\n",
    "        # go to the next page then wait\n",
    "        driver.find_elements(By.CLASS_NAME, \"next\")[0].click()\n",
    "        wait_for_page(3)\n",
    "\n",
    "    return data, heading_names"
   ]
  },
  {
   "cell_type": "markdown",
   "metadata": {},
   "source": [
    "# Navigate to URL to Results Table"
   ]
  },
  {
   "cell_type": "code",
   "execution_count": 27,
   "metadata": {},
   "outputs": [],
   "source": [
    "# navigate to URL\n",
    "driver.get(\"https://www.mississauga.ca/library/research-and-learn/business/\")\n",
    "\n",
    "# navigate to Canadian Businesses\n",
    "wait_for_page(1)\n",
    "driver.find_element(By.XPATH, (\"//a[@title = 'Canadian Businesses']\")).click()\n",
    "\n",
    "# check off on the ToC and Agree\n",
    "wait_for_page(1)\n",
    "driver.find_element(By.ID, \"chkAgree\").click()\n",
    "driver.find_element(By.CLASS_NAME, \"action-agree\").click()\n",
    "\n",
    "# enter card number and log on\n",
    "wait_for_page(1)\n",
    "driver.find_element(By.ID, \"matchcode\").send_keys(card_num)\n",
    "driver.find_element(By.CLASS_NAME, \"action-submit-form\").click()\n",
    "\n",
    "# open Canadian Business search\n",
    "wait_for_page(1)\n",
    "driver.find_element(By.CLASS_NAME, (\"action-do-search\")).click()\n",
    "\n",
    "# switch to Advanced Search and interact with filters\n",
    "wait_for_page(1)\n",
    "driver.find_element(By.CLASS_NAME, \"advancedSearch\").click()\n",
    "driver.find_element(By.ID, \"cs-YellowPageHeadingOrSic\").click() # Business Type: Keyword/SIC/NAICS\n",
    "driver.find_element(By.ID, \"cs-Province\").click() # Geography: Province\n",
    "\n",
    "# wait for advanced filter options to populate\n",
    "wait_for_page(1)\n",
    "driver.find_element(By.CSS_SELECTOR, \"input#VerifiedOnly\").click()\n",
    "driver.find_element(By.CSS_SELECTOR, \"input#sicPrimaryOptionId\").click() # radio: Search primary SIC Only\n",
    "driver.find_element(By.ID, \"sicLookupKeyword\").send_keys(query) # search field: Query\n",
    "driver.find_element(By.ID, \"searchSic\").click() # search button: Query\n",
    "\n",
    "# wait for results to populate and highlight chosen query fields\n",
    "wait_for_page(1)\n",
    "for value in data_values:\n",
    "    driver.find_element(By.XPATH, f\"//li[@data-value = {value}]\").click() # results: Highlight NAICS results\n",
    "driver.find_element(By.XPATH, f\"//li[@data-value = 'ON']\").click() # results: Highlight Ontario results\n",
    "driver.find_element(By.CLASS_NAME, \"action-view-results\").click() # View Results with filters\n",
    "\n",
    "# results page\n",
    "wait_for_page(2)\n",
    "driver.find_element(By.XPATH, \"//*[@alt = 'Optional Column']\").click()\n",
    "driver.find_element(By.XPATH, \"//*[@data-key = 'Title']\").click()"
   ]
  },
  {
   "attachments": {},
   "cell_type": "markdown",
   "metadata": {},
   "source": [
    "### Make function to repeat try/except blocks for each check below."
   ]
  },
  {
   "cell_type": "code",
   "execution_count": null,
   "metadata": {},
   "outputs": [],
   "source": [
    "# high-level\n",
    "bodies = driver.find_elements(By.TAG_NAME, \"tbody\")\n",
    "info_list = list()\n",
    "\n",
    "# low-level\n",
    "management = bodies[5].find_elements(By.TAG_NAME, \"tr\")\n",
    "for people in management:\n",
    "    person = people.find_elements(By.TAG_NAME, \"td\")\n",
    "\n",
    "    # Management Directory\n",
    "    for detail in person:\n",
    "        info_list.append(detail.text)\n",
    "\n",
    "    # Company details below will be copied for each person in management of that company\n",
    "    for i,_ in enumerate(bodies):\n",
    "        # Location Information (1st)\n",
    "        if i == 0:\n",
    "            cols = bodies[i].find_elements(By.TAG_NAME, \"tr\")\n",
    "            for col in cols:\n",
    "                info_list.append(col.text)\n",
    "\n",
    "        # Location Information (2nd)\n",
    "        if i == 1:\n",
    "            info_list.append(bodies[i].find_element(By.XPATH, \"//td[@headers = 'phone']\").text)\n",
    "            info_list.append(bodies[i].find_element(By.XPATH, \"//td[@headers = 'fax']\").text)\n",
    "            info_list.append(bodies[i].find_element(By.XPATH, \"//td[@headers = 'district']\").text)\n",
    "            info_list.append(bodies[i].find_element(By.XPATH, \"//td[@headers = 'cma']\").text) # Census Metropolitan Area\n",
    "\n",
    "        # Location Information (3rd)\n",
    "        if i == 2:\n",
    "            info_list.append(bodies[i].find_element(By.TAG_NAME, \"a\").get_attribute(\"href\"))\n",
    "\n",
    "        # Industry Profile\n",
    "        if i == 3:\n",
    "            cols = bodies[i].find_elements(By.TAG_NAME, \"td\")\n",
    "            for col in cols:\n",
    "                info_list.append(col.text)\n",
    "\n",
    "        # Business Demographics\n",
    "        if i == 4:\n",
    "            cols = bodies[i].find_elements(By.TAG_NAME, \"td\")\n",
    "            for col in cols:\n",
    "                info_list.append(col.text)\n",
    "\n",
    "        # Business Expenditures\n",
    "        if i == 6:\n",
    "            cols = bodies[i].find_elements(By.TAG_NAME, \"td\")\n",
    "            for col in cols:\n",
    "                info_list.append(col.text)"
   ]
  },
  {
   "cell_type": "code",
   "execution_count": null,
   "metadata": {},
   "outputs": [],
   "source": [
    "# navigate to the first company\n",
    "## LOOP THROUGH RESULTS\n",
    "company_links = driver.find_elements(By.XPATH, \"//tbody[@id ='searchResultsPage']/tr/td/a\")\n",
    "company_links[0].click()\n",
    "wait_for_page(3)"
   ]
  },
  {
   "cell_type": "code",
   "execution_count": 20,
   "metadata": {},
   "outputs": [
    {
     "name": "stdout",
     "output_type": "stream",
     "text": [
      "8\n"
     ]
    },
    {
     "data": {
      "text/plain": [
       "['These expenditures are an estimated annual expense.',\n",
       " '1595645 Ontario Inc',\n",
       " '2155a Steeles Ave E',\n",
       " 'Brampton, ON L6T5A1',\n",
       " '(905) 450-9996',\n",
       " 'Not Available',\n",
       " 'Peel Regional',\n",
       " 'Toronto']"
      ]
     },
     "execution_count": 20,
     "metadata": {},
     "output_type": "execute_result"
    }
   ],
   "source": [
    "print(len(info_list))\n",
    "info_list"
   ]
  },
  {
   "cell_type": "code",
   "execution_count": 67,
   "metadata": {},
   "outputs": [
    {
     "name": "stdout",
     "output_type": "stream",
     "text": [
      "10 Tation Event Catering\n",
      "232 Norseman St\n",
      "Etobicoke, ON M8Z2R4 \n",
      "\n",
      "Phone (416) 243-5144 District Toronto Metropolitan\n",
      "Fax (416) 243-2662 CMA Toronto \n",
      "\n",
      "10tation.com \n",
      "\n",
      "SIC Code Descriptions Primary Ad Size Year First Appeared\n",
      "5812-12 Caterers Regular 2019\n",
      "NAICS Code Description Primary Ad Size Year First Appeared\n",
      "72232001 Caterers Regular 2019 \n",
      "\n",
      "Location Employees 24 Location Sales Volume $1,296,000\n",
      "Corporate Employees Not Available Corporate Sales Volume Not Available\n",
      "Location Type Single Loc Credit Rating Excellent\n",
      "Stock Ticker Symbol Latitude / Longitude 43.632250 / -79.529510\n",
      "IUSA Number 03-839-5380 Federal Contractor No \n",
      "\n",
      "David D'Aprile Owner Male \n",
      "\n",
      "These expenditures are an estimated annual expense.\n",
      "Accounting $2,500 to $5,000 Advertising $20,000 to $50,000\n",
      "Contract Labor $1,000 to $10,000 Insurance $10,000 to $25,000\n",
      "Legal $1,000 to $2,500 Management/Administration $5,000 to $10,000\n",
      "Office Equipment & Supplies $20,000 to $50,000 Package/Container $10,000 to $25,000\n",
      "Payroll & Benefits $250,000 to $500,000 Purchased Print $1,000 to $2,500\n",
      "Rent & Leasing $50,000 to $100,000 Technology $1,000 to $2,500\n",
      "Telecommunications $2,000 to $5,000 Utilities $25,000 to $50,000 \n",
      "\n"
     ]
    }
   ],
   "source": [
    "for i in range(len(driver.find_elements(By.TAG_NAME, \"tbody\"))):\n",
    "    print(driver.find_elements(By.TAG_NAME, \"tbody\")[i].text, \"\\n\")"
   ]
  },
  {
   "cell_type": "code",
   "execution_count": 70,
   "metadata": {},
   "outputs": [
    {
     "name": "stdout",
     "output_type": "stream",
     "text": [
      "Name Executive Title Gender\n"
     ]
    }
   ],
   "source": [
    "for i in range(len(driver.find_elements(By.TAG_NAME, \"thead\"))):\n",
    "    print(driver.find_elements(By.TAG_NAME, \"thead\")[i].text)"
   ]
  },
  {
   "cell_type": "code",
   "execution_count": 71,
   "metadata": {},
   "outputs": [
    {
     "name": "stdout",
     "output_type": "stream",
     "text": [
      "Phone\n",
      "District\n",
      "Fax\n",
      "CMA\n",
      "SIC Code\n",
      "Descriptions\n",
      "Primary\n",
      "Ad Size\n",
      "Year First Appeared\n",
      "NAICS Code\n",
      "Description\n",
      "Primary\n",
      "Ad Size\n",
      "Year First Appeared\n",
      "Location Employees\n",
      "Location Sales Volume\n",
      "Corporate Employees\n",
      "Corporate Sales Volume\n",
      "Location Type\n",
      "Credit Rating\n",
      "Stock Ticker Symbol\n",
      "Latitude / Longitude\n",
      "IUSA Number\n",
      "Federal Contractor\n",
      "Name\n",
      "Executive Title\n",
      "Gender\n",
      "Accounting\n",
      "Advertising\n",
      "Contract Labor\n",
      "Insurance\n",
      "Legal\n",
      "Management/Administration\n",
      "Office Equipment & Supplies\n",
      "Package/Container\n",
      "Payroll & Benefits\n",
      "Purchased Print\n",
      "Rent & Leasing\n",
      "Technology\n",
      "Telecommunications\n",
      "Utilities\n"
     ]
    }
   ],
   "source": [
    "for i in range(len(driver.find_elements(By.TAG_NAME, \"th\"))):\n",
    "    print(driver.find_elements(By.TAG_NAME, \"th\")[i].text)"
   ]
  },
  {
   "cell_type": "code",
   "execution_count": 72,
   "metadata": {},
   "outputs": [
    {
     "name": "stdout",
     "output_type": "stream",
     "text": [
      "10 Tation Event Catering\n",
      "\n",
      "232 Norseman St\n",
      "Etobicoke, ON M8Z2R4\n",
      "\n",
      "(416) 243-5144\n",
      "Toronto Metropolitan\n",
      "(416) 243-2662\n",
      "Toronto\n",
      "10tation.com\n",
      "5812-12\n",
      "Caterers\n",
      "\n",
      "Regular\n",
      "2019\n",
      "72232001\n",
      "Caterers\n",
      "\n",
      "Regular\n",
      "2019\n",
      "24\n",
      "$1,296,000\n",
      "Not Available\n",
      "Not Available\n",
      "Single Loc\n",
      "Excellent\n",
      "\n",
      "43.632250 / -79.529510\n",
      "03-839-5380\n",
      "No\n",
      "David D'Aprile\n",
      "Owner\n",
      "Male\n",
      "These expenditures are an estimated annual expense.\n",
      "$2,500 to $5,000\n",
      "$20,000 to $50,000\n",
      "$1,000 to $10,000\n",
      "$10,000 to $25,000\n",
      "$1,000 to $2,500\n",
      "$5,000 to $10,000\n",
      "$20,000 to $50,000\n",
      "$10,000 to $25,000\n",
      "$250,000 to $500,000\n",
      "$1,000 to $2,500\n",
      "$50,000 to $100,000\n",
      "$1,000 to $2,500\n",
      "$2,000 to $5,000\n",
      "$25,000 to $50,000\n"
     ]
    }
   ],
   "source": [
    "for i in range(len(driver.find_elements(By.TAG_NAME, \"td\"))):\n",
    "    print(driver.find_elements(By.TAG_NAME, \"td\")[i].text)"
   ]
  },
  {
   "cell_type": "code",
   "execution_count": 79,
   "metadata": {},
   "outputs": [
    {
     "data": {
      "text/plain": [
       "''"
      ]
     },
     "execution_count": 79,
     "metadata": {},
     "output_type": "execute_result"
    }
   ],
   "source": [
    "driver.find_elements(By.TAG_NAME, \"td\")[26].text"
   ]
  },
  {
   "cell_type": "code",
   "execution_count": null,
   "metadata": {},
   "outputs": [],
   "source": [
    "# gather location information\n",
    "driver.find_element(By.ID, \"businessName\").text # Company\n",
    "driver.find_element(By.XPATH, \"//td[@id = 'businessName']/tr[@class = 'firstTd']\")"
   ]
  },
  {
   "cell_type": "code",
   "execution_count": 58,
   "metadata": {},
   "outputs": [],
   "source": [
    "driver.back()"
   ]
  },
  {
   "cell_type": "code",
   "execution_count": 59,
   "metadata": {},
   "outputs": [],
   "source": [
    "driver.forward()"
   ]
  },
  {
   "cell_type": "code",
   "execution_count": 31,
   "metadata": {},
   "outputs": [],
   "source": [
    "# df = pd.DataFrame(data, columns=headings)"
   ]
  },
  {
   "cell_type": "code",
   "execution_count": 32,
   "metadata": {},
   "outputs": [],
   "source": [
    "# df.to_excel('lead-list-scraped.xlsx')"
   ]
  },
  {
   "cell_type": "code",
   "execution_count": null,
   "metadata": {},
   "outputs": [],
   "source": [
    "#Location Information\n",
    "## Company\n",
    "## Address\n",
    "## Phone\n",
    "## Fax\n",
    "## District\n",
    "## CMA\n",
    "\n",
    "#Industry Profile\n",
    "## SIC Code\n",
    "## Descriptions\n",
    "## Ad Size\n",
    "## Year First Appeared\n",
    "## NAICS Code\n",
    "## Description\n",
    "## Ad Size\n",
    "## Year First Appeared\n",
    "\n",
    "# Business Demographics\n",
    "## Location Employees\n",
    "## Corporate Employees\n",
    "## Location Type\n",
    "## Stock Ticker Symbol\n",
    "## IUSA Number\n",
    "## Location Sales Volume\n",
    "## Corporate Sales Volume\n",
    "## Credit Rating\n",
    "## Latitude / Longitude\n",
    "## Federal Contractor\n",
    "\n",
    "# Management Directory <-- Use this to populate your rows\n",
    "## Name\n",
    "## Executive Title\n",
    "## Gender\n",
    "\n",
    "# Business Expenditures\n",
    "## Accounting\n",
    "## Contract Labor\n",
    "## Legal\n",
    "## Office Equipment & Supplies\n",
    "## Payroll & Benefits\n",
    "## Rent & Leasing\n",
    "## Telecommunications\n",
    "## Advertising\n",
    "## Insurance\n",
    "## Management/Administration\n",
    "## Package/Container\n",
    "## Purchased Print\n",
    "## Technology\n",
    "## Utilities"
   ]
  }
 ],
 "metadata": {
  "kernelspec": {
   "display_name": "lighthouse",
   "language": "python",
   "name": "python3"
  },
  "language_info": {
   "codemirror_mode": {
    "name": "ipython",
    "version": 3
   },
   "file_extension": ".py",
   "mimetype": "text/x-python",
   "name": "python",
   "nbconvert_exporter": "python",
   "pygments_lexer": "ipython3",
   "version": "3.8.13"
  },
  "orig_nbformat": 4
 },
 "nbformat": 4,
 "nbformat_minor": 2
}
