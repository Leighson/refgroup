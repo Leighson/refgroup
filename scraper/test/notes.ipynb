{
 "cells": [
  {
   "cell_type": "code",
   "execution_count": 88,
   "metadata": {},
   "outputs": [],
   "source": [
    "# load environment variables\n",
    "from dotenv import load_dotenv\n",
    "from pathlib import Path\n",
    "import os\n",
    "\n",
    "load_dotenv()\n",
    "\n",
    "# selenium to parse dynamic web pages\n",
    "from webdriver_manager.chrome import ChromeDriverManager\n",
    "from selenium import webdriver\n",
    "from selenium.webdriver import ChromeOptions\n",
    "from selenium.webdriver.chrome.service import Service as ChromeService\n",
    "from selenium.webdriver.support.wait import WebDriverWait\n",
    "from selenium.webdriver.common.by import By\n",
    "from selenium.common.exceptions import NoSuchElementException\n",
    "\n",
    "# import utilities\n",
    "import pandas as pd\n",
    "import time"
   ]
  },
  {
   "attachments": {},
   "cell_type": "markdown",
   "metadata": {},
   "source": [
    "# Authentication & Filters"
   ]
  },
  {
   "cell_type": "code",
   "execution_count": 89,
   "metadata": {},
   "outputs": [],
   "source": [
    "# get environment variables\n",
    "card_num = os.environ.get('MISS_LIB_CARD')\n",
    "base_url = os.getenv('BASE_URL')\n",
    "\n",
    "# search terms\n",
    "query = \"banquet\"\n",
    "data_values = [\n",
    "    581212, # Banquet Facilities\n",
    "    791102, # Ballrooms\n",
    "    799904, # Auditoriums\n",
    "    738931] # Convention & Meeting Facilities"
   ]
  },
  {
   "cell_type": "code",
   "execution_count": 90,
   "metadata": {},
   "outputs": [
    {
     "name": "stdout",
     "output_type": "stream",
     "text": [
      "https://www.mississauga.ca/library/research-and-learn/business/\n"
     ]
    }
   ],
   "source": [
    "print(base_url)"
   ]
  },
  {
   "attachments": {},
   "cell_type": "markdown",
   "metadata": {},
   "source": [
    "# Set Browser Options & Install Drivers"
   ]
  },
  {
   "cell_type": "code",
   "execution_count": 91,
   "metadata": {},
   "outputs": [],
   "source": [
    "# define options for browser\n",
    "options = ChromeOptions()\n",
    "options.add_argument('--ignore-certificate-errors')\n",
    "options.add_argument('--incognito')\n",
    "# options.add_argument('--headless')\n",
    "\n",
    "# install driver and open URL\n",
    "driver = webdriver.Chrome(service=ChromeService(ChromeDriverManager().install()), options=options)"
   ]
  },
  {
   "attachments": {},
   "cell_type": "markdown",
   "metadata": {},
   "source": [
    "# Define Helper Functions"
   ]
  },
  {
   "cell_type": "code",
   "execution_count": 92,
   "metadata": {},
   "outputs": [],
   "source": [
    "def document_initialised(driver):\n",
    "    '''\n",
    "    document_initialised will command the driver to wait for the page to load completely.\n",
    "\n",
    "    Args:\n",
    "        driver (ChromeService object): Chrome browser driver.\n",
    "\n",
    "    Returns:\n",
    "        js script: Driver executes a script to wait for the page to load or, if it has already loaded before the listener can catch it, to proceed.\n",
    "    '''\n",
    "    return driver.execute_script(\"if (document.readyState === 'complete') {return true;} else {window.addEventListener('load', () => {return true;});}\")\n",
    "\n",
    "def wait_for_page(n):\n",
    "    '''\n",
    "    wait_for_page will stall the selenium driver to listen for conditions.\n",
    "\n",
    "    Args:\n",
    "        n (int): Set wait time in seconds.\n",
    "\n",
    "    '''\n",
    "    WebDriverWait(driver, timeout=10).until(document_initialised)\n",
    "    time.sleep(n)\n",
    "    return\n",
    "\n",
    "def scrape_table_data(driver):\n",
    "    '''\n",
    "    scrape_page_data will scrape all data from the tabulated, high-level results.\n",
    "    NOTE: This function only works if it is called on the first page of the tabulated results.\n",
    "\n",
    "    Args:\n",
    "        driver (WebDriver object): Chrome browser driver.\n",
    "\n",
    "    Returns:\n",
    "        data (list): Scraped entries from the tables.\n",
    "        heading_names (list): Scraped fields from the tables.\n",
    "    '''\n",
    "\n",
    "    # find the resulting number of pages\n",
    "    max_pages = driver.find_element(By.CLASS_NAME, \"data-page-max\").text\n",
    "\n",
    "    # define containers\n",
    "    data = list()\n",
    "    heading_names = list()\n",
    "\n",
    "    # scrape table headings\n",
    "    headings = driver.find_elements(By.XPATH, \"//thead[@id = 'searchResultsHeader']/tr/th\")\n",
    "    for heading in headings:\n",
    "        heading_names.append(heading.text)\n",
    "\n",
    "    for _ in range(1, int(max_pages)+1):\n",
    "        # scrape entries from table\n",
    "        rows = driver.find_elements(By.XPATH, \"//tbody[@id = 'searchResultsPage']/tr\")\n",
    "\n",
    "        for row in rows:\n",
    "            row_data = list()\n",
    "            for col in row.find_elements(By.TAG_NAME, \"td\"):\n",
    "                row_data.append(col.text)\n",
    "            data.append(row_data)\n",
    "\n",
    "        # go to the next page then wait\n",
    "        driver.find_elements(By.CLASS_NAME, \"next\")[0].click()\n",
    "        wait_for_page(3)\n",
    "\n",
    "    return data, heading_names\n",
    "\n",
    "def scrape_groupbox_info(groupbox, groupbox_title):\n",
    "    '''\n",
    "    scrape_groupbox_info will scrape groupbox details from one company page.\n",
    "\n",
    "    Args:\n",
    "        groupbox (WebDriver element): WebDriver element filtering for groupbox class divs.\n",
    "        groupbox_title (WebDriver element): WebDriver element filtering for groupbox_title divs.\n",
    "\n",
    "    Returns:\n",
    "        temp_list (list): List of data values scraped from each groupbox.\n",
    "        count (int): Length of items in temp_list.\n",
    "    '''\n",
    "    temp_list = list()\n",
    "     #  confirm the case\n",
    "    print(groupbox_title.text)\n",
    "\n",
    "    # find all information in the groupbox\n",
    "    cols = groupbox.find_elements(By.TAG_NAME, \"td\")\n",
    "    count = len(cols)\n",
    "\n",
    "    # append information to the info_list\n",
    "    for col in cols:\n",
    "        temp_list.append(col.text)\n",
    "\n",
    "    # capture if website if present, return nothing if not\n",
    "    # try:\n",
    "    #     temp_list.append(groupbox.find_element(By.TAG_NAME, \"a\").get_attribute(\"href\"))\n",
    "    # except NoSuchElementException:\n",
    "    #     temp_list.append(\"\")\n",
    "\n",
    "    return temp_list, count"
   ]
  },
  {
   "cell_type": "markdown",
   "metadata": {},
   "source": [
    "# Navigate to URL to Results Table"
   ]
  },
  {
   "cell_type": "code",
   "execution_count": 93,
   "metadata": {},
   "outputs": [],
   "source": [
    "# navigate to URL\n",
    "driver.get(base_url)\n",
    "\n",
    "# navigate to Canadian Businesses\n",
    "wait_for_page(1)\n",
    "driver.find_element(By.XPATH, (\"//a[@title = 'Canadian Businesses']\")).click()\n",
    "\n",
    "# check off on the ToC and Agree\n",
    "wait_for_page(1)\n",
    "driver.find_element(By.ID, \"chkAgree\").click()\n",
    "driver.find_element(By.CLASS_NAME, \"action-agree\").click()\n",
    "\n",
    "# enter card number and log on\n",
    "wait_for_page(1)\n",
    "driver.find_element(By.ID, \"matchcode\").send_keys(card_num)\n",
    "driver.find_element(By.CLASS_NAME, \"action-submit-form\").click()\n",
    "\n",
    "# open Canadian Business search\n",
    "wait_for_page(1)\n",
    "driver.find_element(By.CLASS_NAME, (\"action-do-search\")).click()\n",
    "\n",
    "# switch to Advanced Search and interact with filters\n",
    "wait_for_page(1)\n",
    "driver.find_element(By.CLASS_NAME, \"advancedSearch\").click()\n",
    "driver.find_element(By.ID, \"cs-YellowPageHeadingOrSic\").click() # Business Type: Keyword/SIC/NAICS\n",
    "driver.find_element(By.ID, \"cs-Province\").click() # Geography: Province\n",
    "\n",
    "# wait for advanced filter options to populate\n",
    "wait_for_page(1)\n",
    "driver.find_element(By.CSS_SELECTOR, \"input#VerifiedOnly\").click()\n",
    "driver.find_element(By.CSS_SELECTOR, \"input#sicPrimaryOptionId\").click() # radio: Search primary SIC Only\n",
    "driver.find_element(By.ID, \"sicLookupKeyword\").send_keys(query) # search field: Query\n",
    "driver.find_element(By.ID, \"searchSic\").click() # search button: Query\n",
    "\n",
    "# wait for results to populate and highlight chosen query fields\n",
    "wait_for_page(3)\n",
    "for value in data_values:\n",
    "    driver.find_element(By.XPATH, f\"//li[@data-value = {value}]\").click() # results: Highlight NAICS results\n",
    "driver.find_element(By.XPATH, f\"//li[@data-value = 'ON']\").click() # results: Highlight Ontario results\n",
    "driver.find_element(By.CLASS_NAME, \"action-view-results\").click() # View Results with filters\n",
    "\n",
    "# results page\n",
    "wait_for_page(3)\n",
    "driver.find_element(By.XPATH, \"//*[@alt = 'Optional Column']\").click()\n",
    "driver.find_element(By.XPATH, \"//*[@data-key = 'Title']\").click()"
   ]
  },
  {
   "attachments": {},
   "cell_type": "markdown",
   "metadata": {},
   "source": [
    "### Make function to repeat try/except blocks for each check below."
   ]
  },
  {
   "cell_type": "code",
   "execution_count": 94,
   "metadata": {},
   "outputs": [],
   "source": [
    "# navigate to the first company\n",
    "## LOOP THROUGH RESULTS\n",
    "wait_for_page(1)\n",
    "company_links = driver.find_elements(By.XPATH, \"//tbody[@id ='searchResultsPage']/tr/td/a\")\n",
    "company_links[0].click()\n"
   ]
  },
  {
   "cell_type": "code",
   "execution_count": 95,
   "metadata": {},
   "outputs": [],
   "source": [
    "info_list = list()\n",
    "\n",
    "# find group boxes\n",
    "groupbox_titles = driver.find_elements(By.CLASS_NAME, \"groupboxTitle\")"
   ]
  },
  {
   "cell_type": "code",
   "execution_count": 96,
   "metadata": {},
   "outputs": [
    {
     "name": "stdout",
     "output_type": "stream",
     "text": [
      "Location Information\n",
      "Industry Profile\n",
      "Photo, Map, & Directions\n",
      "Business Demographics\n",
      "Management Directory\n",
      "Business Expenditures\n",
      "Nearby Businesses\n",
      "Competitors Report\n"
     ]
    }
   ],
   "source": [
    "# Isolate site for each group box based on title\n",
    "for i, groupbox_title in enumerate(groupbox_titles):\n",
    "    # Save parent element of group box titles\n",
    "    groupboxes = driver.find_elements(By.CLASS_NAME, \"groupbox\")\n",
    "\n",
    "    match groupbox_title.text:\n",
    "        case \"Location Information\":\n",
    "            temp_list, count = scrape_groupbox_info(groupboxes[i], groupbox_title)\n",
    "            info_list.extend(temp_list)\n",
    "            if count < 10:\n",
    "                info_list.append(\"\")\n",
    "\n",
    "        case \"Industry Profile\":\n",
    "            temp_list, _ = scrape_groupbox_info(groupboxes[i], groupbox_title)\n",
    "            info_list.extend(temp_list)\n",
    "\n",
    "        case  \"Photo, Map, & Directions\":\n",
    "            temp_list, _ = scrape_groupbox_info(groupboxes[i], groupbox_title)\n",
    "            info_list.extend(temp_list)\n",
    "\n",
    "        case \"Business Demographics\":\n",
    "            temp_list, _ = scrape_groupbox_info(groupboxes[i], groupbox_title)\n",
    "            info_list.extend(temp_list)\n",
    "\n",
    "        case \"Management Directory\":\n",
    "            temp_list, _ = scrape_groupbox_info(groupboxes[i], groupbox_title)\n",
    "            info_list.extend(temp_list)\n",
    "\n",
    "        case \"Business Expenditures\":\n",
    "            temp_list, _ = scrape_groupbox_info(groupboxes[i], groupbox_title)\n",
    "            info_list.extend(temp_list)\n",
    "\n",
    "        case \"Nearby Businesses\":\n",
    "            temp_list, _ = scrape_groupbox_info(groupboxes[i], groupbox_title)\n",
    "            info_list.extend(temp_list)\n",
    "\n",
    "        case \"Competitors Report\":\n",
    "            temp_list, _ = scrape_groupbox_info(groupboxes[i], groupbox_title)\n",
    "            info_list.extend(temp_list)\n",
    "\n",
    "        case _:\n",
    "            print(\"\")"
   ]
  },
  {
   "cell_type": "code",
   "execution_count": 97,
   "metadata": {},
   "outputs": [
    {
     "name": "stdout",
     "output_type": "stream",
     "text": [
      "48\n"
     ]
    },
    {
     "data": {
      "text/plain": [
       "['10 Tation Event Catering',\n",
       " '',\n",
       " '232 Norseman St',\n",
       " 'Etobicoke, ON M8Z2R4',\n",
       " '',\n",
       " '(416) 243-5144',\n",
       " 'Toronto Metropolitan',\n",
       " '(416) 243-2662',\n",
       " 'Toronto',\n",
       " '10tation.com',\n",
       " '5812-12',\n",
       " 'Caterers',\n",
       " '',\n",
       " 'Regular',\n",
       " '2019',\n",
       " '72232001',\n",
       " 'Caterers',\n",
       " '',\n",
       " 'Regular',\n",
       " '2019',\n",
       " '24',\n",
       " '$1,296,000',\n",
       " 'Not Available',\n",
       " 'Not Available',\n",
       " 'Single Loc',\n",
       " 'Excellent',\n",
       " '',\n",
       " '43.632250 / -79.529510',\n",
       " '03-839-5380',\n",
       " 'No',\n",
       " \"David D'Aprile\",\n",
       " 'Owner',\n",
       " 'Male',\n",
       " 'These expenditures are an estimated annual expense.',\n",
       " '$2,500 to $5,000',\n",
       " '$20,000 to $50,000',\n",
       " '$1,000 to $10,000',\n",
       " '$10,000 to $25,000',\n",
       " '$1,000 to $2,500',\n",
       " '$5,000 to $10,000',\n",
       " '$20,000 to $50,000',\n",
       " '$10,000 to $25,000',\n",
       " '$250,000 to $500,000',\n",
       " '$1,000 to $2,500',\n",
       " '$50,000 to $100,000',\n",
       " '$1,000 to $2,500',\n",
       " '$2,000 to $5,000',\n",
       " '$25,000 to $50,000']"
      ]
     },
     "execution_count": 97,
     "metadata": {},
     "output_type": "execute_result"
    }
   ],
   "source": [
    "print(len(info_list))\n",
    "info_list"
   ]
  },
  {
   "cell_type": "code",
   "execution_count": 98,
   "metadata": {},
   "outputs": [],
   "source": [
    "driver.back()"
   ]
  },
  {
   "cell_type": "code",
   "execution_count": 99,
   "metadata": {},
   "outputs": [],
   "source": [
    "# df = pd.DataFrame(data, columns=headings)"
   ]
  },
  {
   "cell_type": "code",
   "execution_count": 100,
   "metadata": {},
   "outputs": [],
   "source": [
    "# df.to_excel('lead-list-scraped.xlsx')"
   ]
  },
  {
   "cell_type": "code",
   "execution_count": 101,
   "metadata": {},
   "outputs": [],
   "source": [
    "#Location Information\n",
    "## Company\n",
    "## Address\n",
    "## Phone\n",
    "## Fax\n",
    "## District\n",
    "## CMA\n",
    "\n",
    "#Industry Profile\n",
    "## SIC Code\n",
    "## Descriptions\n",
    "## Ad Size\n",
    "## Year First Appeared\n",
    "## NAICS Code\n",
    "## Description\n",
    "## Ad Size\n",
    "## Year First Appeared\n",
    "\n",
    "# Business Demographics\n",
    "## Location Employees\n",
    "## Corporate Employees\n",
    "## Location Type\n",
    "## Stock Ticker Symbol\n",
    "## IUSA Number\n",
    "## Location Sales Volume\n",
    "## Corporate Sales Volume\n",
    "## Credit Rating\n",
    "## Latitude / Longitude\n",
    "## Federal Contractor\n",
    "\n",
    "# Management Directory <-- Use this to populate your rows\n",
    "## Name\n",
    "## Executive Title\n",
    "## Gender\n",
    "\n",
    "# Business Expenditures\n",
    "## Accounting\n",
    "## Contract Labor\n",
    "## Legal\n",
    "## Office Equipment & Supplies\n",
    "## Payroll & Benefits\n",
    "## Rent & Leasing\n",
    "## Telecommunications\n",
    "## Advertising\n",
    "## Insurance\n",
    "## Management/Administration\n",
    "## Package/Container\n",
    "## Purchased Print\n",
    "## Technology\n",
    "## Utilities"
   ]
  }
 ],
 "metadata": {
  "kernelspec": {
   "display_name": "lighthouse",
   "language": "python",
   "name": "python3"
  },
  "language_info": {
   "codemirror_mode": {
    "name": "ipython",
    "version": 3
   },
   "file_extension": ".py",
   "mimetype": "text/x-python",
   "name": "python",
   "nbconvert_exporter": "python",
   "pygments_lexer": "ipython3",
   "version": "3.11.0"
  },
  "orig_nbformat": 4
 },
 "nbformat": 4,
 "nbformat_minor": 2
}
