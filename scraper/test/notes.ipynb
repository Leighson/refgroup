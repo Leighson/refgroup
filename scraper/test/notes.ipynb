{
 "cells": [
  {
   "cell_type": "code",
   "execution_count": 22,
   "metadata": {},
   "outputs": [],
   "source": [
    "# load environment variables\n",
    "from dotenv import load_dotenv\n",
    "import os\n",
    "load_dotenv()\n",
    "\n",
    "# selenium to parse dynamic web pages\n",
    "from selenium import webdriver\n",
    "from selenium.webdriver.chrome.service import Service as ChromeService\n",
    "from selenium.webdriver.support.wait import WebDriverWait\n",
    "from webdriver_manager.chrome import ChromeDriverManager\n",
    "from selenium.webdriver.common.by import By\n",
    "\n",
    "# import utilities\n",
    "import pandas as pd\n",
    "import time"
   ]
  },
  {
   "cell_type": "code",
   "execution_count": 23,
   "metadata": {},
   "outputs": [],
   "source": [
    "# get environment variables\n",
    "card_num = os.environ.get(\"mississauga-library-card\")\n",
    "\n",
    "# search terms\n",
    "query = \"banquet\"\n",
    "data_values = [\n",
    "    581212, # Banquet Facilities\n",
    "    791102, # Ballrooms\n",
    "    799904, # Auditoriums\n",
    "    738931] # Convention & Meeting Facilities\n",
    "province_list = [\n",
    "    'ON'] # Ontario"
   ]
  },
  {
   "cell_type": "code",
   "execution_count": 24,
   "metadata": {},
   "outputs": [],
   "source": [
    "# define options for browser\n",
    "options = webdriver.ChromeOptions()\n",
    "options.add_argument('--ignore-certificate-errors')\n",
    "options.add_argument('--incognito')\n",
    "# options.add_argument('--headless')"
   ]
  },
  {
   "cell_type": "code",
   "execution_count": 25,
   "metadata": {},
   "outputs": [],
   "source": [
    "# load browser driver\n",
    "driver = webdriver.Chrome(service=ChromeService(ChromeDriverManager().install()), options=options)\n",
    "\n",
    "# define context for waiting on webpage to load\n",
    "# if page loads, the event listener will return true\n",
    "# if page loaded before executing this function, then return true\n",
    "def document_initialised(driver):\n",
    "    time.sleep(3)\n",
    "    return driver.execute_script(\"if (document.readyState === 'complete') {return true;} else {window.addEventListener('load', () => {return true;});}\")\n",
    "\n",
    "# open URL in browser\n",
    "driver.get(\"https://www.mississauga.ca/library/research-and-learn/business/\")\n",
    "\n",
    "# if the element text(ID) is equal to 'options', do nothing\n",
    "# otherwise, throw an assertion error]\n",
    "WebDriverWait(driver, timeout=10).until(document_initialised)\n",
    "driver.find_element(By.XPATH, (\"//a[@title = 'Canadian Businesses']\")).click()\n",
    "\n",
    "# check off on the ToC and Agree\n",
    "WebDriverWait(driver, timeout=10).until(document_initialised)\n",
    "driver.find_element(By.ID, \"chkAgree\").click()\n",
    "driver.find_element(By.CLASS_NAME, \"action-agree\").click()\n",
    "\n",
    "# enter card number and log on\n",
    "WebDriverWait(driver, timeout=10).until(document_initialised)\n",
    "driver.find_element(By.ID, \"matchcode\").send_keys(card_num)\n",
    "driver.find_element(By.CLASS_NAME, \"action-submit-form\").click()\n",
    "\n",
    "# open Canadian Business search\n",
    "WebDriverWait(driver, timeout=30).until(document_initialised)\n",
    "driver.find_element(By.CLASS_NAME, (\"action-do-search\")).click()\n",
    "\n",
    "# switch to Advanced Search and interact with filters\n",
    "WebDriverWait(driver, timeout=10).until(document_initialised)\n",
    "driver.find_element(By.CLASS_NAME, \"advancedSearch\").click()\n",
    "driver.find_element(By.ID, \"cs-YellowPageHeadingOrSic\").click() # Business Type: Keyword/SIC/NAICS\n",
    "driver.find_element(By.ID, \"cs-Province\").click() # Geography: Province\n",
    "\n",
    "# wait for advanced filter options to populate\n",
    "WebDriverWait(driver, 10).until(document_initialised)\n",
    "driver.find_element(By.CSS_SELECTOR, \"input#VerifiedOnly\").click()\n",
    "driver.find_element(By.CSS_SELECTOR, \"input#sicPrimaryOptionId\").click() # radio: Search primary SIC Only\n",
    "driver.find_element(By.ID, \"sicLookupKeyword\").send_keys(query) # search field: Query\n",
    "driver.find_element(By.ID, \"searchSic\").click() # search button: Query\n",
    "\n",
    "# wait for results to populate and highlight chosen query fields\n",
    "WebDriverWait(driver, timeout=10).until(document_initialised)\n",
    "for value in data_values:\n",
    "    driver.find_element(By.XPATH, f\"//li[@data-value = {value}]\").click() # results: Highlight NAICS results\n",
    "driver.find_element(By.XPATH, f\"//li[@data-value = 'ON']\").click() # results: Highlight Ontario results\n",
    "driver.find_element(By.CLASS_NAME, \"action-view-results\").click() # View Results with filters\n",
    "\n",
    "# results page\n",
    "WebDriverWait(driver, timeout=10).until(document_initialised)\n",
    "driver.find_element(By.XPATH, \"//*[@alt = 'Optional Column']\").click()\n",
    "driver.find_element(By.XPATH, \"//*[@data-key = 'Title']\").click()"
   ]
  },
  {
   "cell_type": "code",
   "execution_count": 28,
   "metadata": {},
   "outputs": [],
   "source": [
    "# function to scrape through each page\n",
    "def scrape_data(driver):\n",
    "\n",
    "    # find the resulting number of pages\n",
    "    max_pages = driver.find_element(By.CLASS_NAME, \"data-page-max\").text\n",
    "\n",
    "    # define containers\n",
    "    data = list()\n",
    "    heading_names = list()\n",
    "\n",
    "    # scrape table headings\n",
    "    headings = driver.find_elements(By.XPATH, \"//thead[@id = 'searchResultsHeader']/tr/th\")\n",
    "    for heading in headings:\n",
    "        heading_names.append(heading.text)\n",
    "\n",
    "    for _ in range(1, int(max_pages)+1):\n",
    "        # scrape entries from table\n",
    "        rows = driver.find_elements(By.XPATH, \"//tbody[@id = 'searchResultsPage']/tr\")\n",
    "\n",
    "        for row in rows:\n",
    "            row_data = list()\n",
    "            for col in row.find_elements(By.TAG_NAME, \"td\"):\n",
    "                row_data.append(col.text)\n",
    "            data.append(row_data)\n",
    "\n",
    "        # go to the next page\n",
    "        driver.find_elements(By.CLASS_NAME, \"next\")[0].click()\n",
    "\n",
    "        # wait for next page to load\n",
    "        WebDriverWait(driver, timeout=10).until(document_initialised)\n",
    "\n",
    "    return data, heading_names"
   ]
  },
  {
   "cell_type": "code",
   "execution_count": 29,
   "metadata": {},
   "outputs": [
    {
     "data": {
      "text/plain": [
       "['',\n",
       " 'Company Name',\n",
       " 'Executive Name',\n",
       " 'Street Address',\n",
       " 'City, Province',\n",
       " 'Postal Code',\n",
       " 'Phone',\n",
       " 'Title']"
      ]
     },
     "execution_count": 29,
     "metadata": {},
     "output_type": "execute_result"
    }
   ],
   "source": [
    "data, headings = scrape_data(driver)\n",
    "headings"
   ]
  },
  {
   "cell_type": "code",
   "execution_count": 31,
   "metadata": {},
   "outputs": [],
   "source": [
    "df = pd.DataFrame(data, columns=headings)"
   ]
  },
  {
   "cell_type": "code",
   "execution_count": 32,
   "metadata": {},
   "outputs": [],
   "source": [
    "df.to_excel('lead-list-scraped.xlsx')"
   ]
  },
  {
   "cell_type": "code",
   "execution_count": null,
   "metadata": {},
   "outputs": [],
   "source": []
  }
 ],
 "metadata": {
  "kernelspec": {
   "display_name": "lighthouse",
   "language": "python",
   "name": "python3"
  },
  "language_info": {
   "codemirror_mode": {
    "name": "ipython",
    "version": 3
   },
   "file_extension": ".py",
   "mimetype": "text/x-python",
   "name": "python",
   "nbconvert_exporter": "python",
   "pygments_lexer": "ipython3",
   "version": "3.8.13"
  },
  "orig_nbformat": 4
 },
 "nbformat": 4,
 "nbformat_minor": 2
}
